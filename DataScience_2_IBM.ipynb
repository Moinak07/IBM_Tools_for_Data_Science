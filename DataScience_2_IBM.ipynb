{
 "cells": [
  {
   "cell_type": "markdown",
   "id": "2cbf6ac0-dabf-4b97-bbb4-d5e1d0afa7ac",
   "metadata": {},
   "source": [
    "# Final Project: Introduction to Data Science Tools and Languages\r\n"
   ]
  },
  {
   "cell_type": "markdown",
   "id": "3b2e8380-dff1-49d3-bdcb-41db09f7e36a",
   "metadata": {},
   "source": [
    "## Introduction\r\n",
    "This notebook contains a brief overview of the popular tools, libraries, and languages used in data science. It also includes examples of arithmetic operations and code for basic computations.\r\n"
   ]
  },
  {
   "cell_type": "markdown",
   "id": "3c99f4bf-efbb-48c6-b989-d3b62c960ffc",
   "metadata": {},
   "source": [
    "## Popular Languages for Data Science\r\n",
    "- Python\r\n",
    "- R\r\n",
    "- SQL\r\n",
    "- Julia\r\n",
    "- Scala\r\n"
   ]
  },
  {
   "cell_type": "markdown",
   "id": "8262859b-4fbf-48ff-879c-324f9218ad20",
   "metadata": {},
   "source": [
    "## Popular Data Science Libraries\n",
    "- NumPy\n",
    "- Pandas\n",
    "- Matplotlib\n",
    "- Scikit-learn\n",
    "- TensorFlow\n",
    "- Keras\n"
   ]
  },
  {
   "cell_type": "markdown",
   "id": "f47bb9b2-c0c5-49b2-9492-4119d7186313",
   "metadata": {},
   "source": [
    "## Data Science Tools\n",
    "\n",
    "| Tool            | Category         | Description                       |\n",
    "|-----------------|------------------|-----------------------------------|\n",
    "| Jupyter Notebook| IDE              | Web-based interactive coding      |\n",
    "| RStudio         | IDE              | IDE for R and Python              |\n",
    "| Apache Spark    | Big Data Engine  | Cluster computing framework       |\n",
    "| Tableau         | Visualization    | Data visualization tool           |\n",
    "| TensorFlow      | Deep Learning    | Open-source machine learning tool |\n"
   ]
  },
  {
   "cell_type": "markdown",
   "id": "f4746c4d-db7a-4155-bdde-47e644c66902",
   "metadata": {},
   "source": [
    "## Examples of Arithmetic Expressions in Python\n",
    "Below are some basic examples demonstrating arithmetic operations like addition and multiplication."
   ]
  },
  {
   "cell_type": "code",
   "execution_count": 14,
   "id": "227aacc9-b490-4b7e-ad6a-a956a5d003ec",
   "metadata": {},
   "outputs": [
    {
     "name": "stdout",
     "output_type": "stream",
     "text": [
      "Result of (5 * 3) + 2 is: 17\n"
     ]
    }
   ],
   "source": [
    "# Multiplying and adding numbers\n",
    "a = 5\n",
    "b = 3\n",
    "result = (a * b) + 2\n",
    "print(\"Result of (5 * 3) + 2 is:\", result)"
   ]
  },
  {
   "cell_type": "code",
   "execution_count": 16,
   "id": "7a67a93f-318c-4f43-891f-55748fe3e06a",
   "metadata": {},
   "outputs": [
    {
     "name": "stdout",
     "output_type": "stream",
     "text": [
      "150 minutes is equal to 2.50 hours\n"
     ]
    }
   ],
   "source": [
    "# Convert minutes to hours\n",
    "minutes = 150\n",
    "hours = minutes / 60\n",
    "print(f\"{minutes} minutes is equal to {hours:.2f} hours\")\n"
   ]
  },
  {
   "cell_type": "markdown",
   "id": "568060f1-0b98-4801-8f0d-00a82d9b8bc2",
   "metadata": {},
   "source": [
    "## Objectives\n",
    "- List popular languages used in data science\n",
    "- Identify key libraries for data manipulation and analysis\n",
    "- Understand basic arithmetic expressions\n",
    "- Practice code writing in Jupyter Notebook\n",
    "- Learn how to share notebooks using GitHub"
   ]
  },
  {
   "cell_type": "markdown",
   "id": "b2949a3a-4f12-4000-b920-7c35acb864a7",
   "metadata": {},
   "source": [
    "## Author\n",
    "**Moinak Chinmoy Khamaru**"
   ]
  },
  {
   "cell_type": "code",
   "execution_count": null,
   "id": "c555ea3f-c768-40a1-9503-13195501c5d0",
   "metadata": {},
   "outputs": [],
   "source": []
  }
 ],
 "metadata": {
  "kernelspec": {
   "display_name": "Python 3 (ipykernel)",
   "language": "python",
   "name": "python3"
  },
  "language_info": {
   "codemirror_mode": {
    "name": "ipython",
    "version": 3
   },
   "file_extension": ".py",
   "mimetype": "text/x-python",
   "name": "python",
   "nbconvert_exporter": "python",
   "pygments_lexer": "ipython3",
   "version": "3.11.7"
  }
 },
 "nbformat": 4,
 "nbformat_minor": 5
}
